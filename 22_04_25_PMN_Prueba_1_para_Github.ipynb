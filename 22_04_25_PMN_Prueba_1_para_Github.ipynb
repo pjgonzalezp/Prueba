{
  "nbformat": 4,
  "nbformat_minor": 0,
  "metadata": {
    "colab": {
      "name": "22-04-25 PMN - Prueba 1 para Github ",
      "provenance": [],
      "authorship_tag": "ABX9TyMnCJAnzxMz36k7EoPkWlXJ",
      "include_colab_link": true
    },
    "kernelspec": {
      "name": "python3",
      "display_name": "Python 3"
    },
    "language_info": {
      "name": "python"
    }
  },
  "cells": [
    {
      "cell_type": "markdown",
      "metadata": {
        "id": "view-in-github",
        "colab_type": "text"
      },
      "source": [
        "<a href=\"https://colab.research.google.com/github/pjgonzalezp/Prueba/blob/main/22_04_25_PMN_Prueba_1_para_Github.ipynb\" target=\"_parent\"><img src=\"https://colab.research.google.com/assets/colab-badge.svg\" alt=\"Open In Colab\"/></a>"
      ]
    },
    {
      "cell_type": "markdown",
      "source": [
        ""
      ],
      "metadata": {
        "id": "IK8I--l0WtRR"
      }
    },
    {
      "cell_type": "code",
      "execution_count": null,
      "metadata": {
        "id": "w4Gz-0d3WkCE"
      },
      "outputs": [],
      "source": [
        ""
      ]
    }
  ]
}